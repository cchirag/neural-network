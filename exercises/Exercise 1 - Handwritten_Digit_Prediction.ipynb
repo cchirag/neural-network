{
  "nbformat": 4,
  "nbformat_minor": 0,
  "metadata": {
    "colab": {
      "provenance": []
    },
    "kernelspec": {
      "name": "python3",
      "display_name": "Python 3"
    },
    "language_info": {
      "name": "python"
    }
  },
  "cells": [
    {
      "cell_type": "markdown",
      "source": [
        "# Hand Written Digit Prediction using Sequential Neuron Network with single Dense Layer"
      ],
      "metadata": {
        "id": "09sUuGOIKmSW"
      }
    },
    {
      "cell_type": "markdown",
      "source": [
        "# Import libraries"
      ],
      "metadata": {
        "id": "_wPMZRQgKoiC"
      }
    },
    {
      "cell_type": "code",
      "source": [
        "import numpy as np\n",
        "from matplotlib import pyplot as plt\n",
        "import tensorflow as tf\n",
        "from tensorflow import keras\n",
        "from sklearn.model_selection import train_test_split"
      ],
      "metadata": {
        "id": "pjc1ISu4Knhx"
      },
      "execution_count": null,
      "outputs": []
    },
    {
      "cell_type": "markdown",
      "source": [
        "# Load Digit Dataset from sklearn.datasets library\n"
      ],
      "metadata": {
        "id": "SchvY4FPKzrG"
      }
    },
    {
      "cell_type": "code",
      "source": [
        "from sklearn.datasets import load_digits"
      ],
      "metadata": {
        "id": "bQjavh_7Kyu5"
      },
      "execution_count": null,
      "outputs": []
    },
    {
      "cell_type": "code",
      "source": [
        "digit_dataset = load_digits()"
      ],
      "metadata": {
        "id": "b4dh-UC9K-ud"
      },
      "execution_count": null,
      "outputs": []
    },
    {
      "cell_type": "code",
      "source": [
        "dir(digit_dataset)"
      ],
      "metadata": {
        "id": "thIqFe3nLEeH",
        "outputId": "06f522d9-d028-495a-9176-8dc6a636aa33",
        "colab": {
          "base_uri": "https://localhost:8080/"
        }
      },
      "execution_count": null,
      "outputs": [
        {
          "output_type": "execute_result",
          "data": {
            "text/plain": [
              "['DESCR', 'data', 'feature_names', 'frame', 'images', 'target', 'target_names']"
            ]
          },
          "metadata": {},
          "execution_count": 25
        }
      ]
    },
    {
      "cell_type": "code",
      "source": [
        "digit_dataset.data[0]"
      ],
      "metadata": {
        "id": "aVGHjRwOLGs_",
        "outputId": "2088fca6-872e-4ce0-e24c-7dd7bba54d51",
        "colab": {
          "base_uri": "https://localhost:8080/"
        }
      },
      "execution_count": null,
      "outputs": [
        {
          "output_type": "execute_result",
          "data": {
            "text/plain": [
              "array([ 0.,  0.,  5., 13.,  9.,  1.,  0.,  0.,  0.,  0., 13., 15., 10.,\n",
              "       15.,  5.,  0.,  0.,  3., 15.,  2.,  0., 11.,  8.,  0.,  0.,  4.,\n",
              "       12.,  0.,  0.,  8.,  8.,  0.,  0.,  5.,  8.,  0.,  0.,  9.,  8.,\n",
              "        0.,  0.,  4., 11.,  0.,  1., 12.,  7.,  0.,  0.,  2., 14.,  5.,\n",
              "       10., 12.,  0.,  0.,  0.,  0.,  6., 13., 10.,  0.,  0.,  0.])"
            ]
          },
          "metadata": {},
          "execution_count": 26
        }
      ]
    },
    {
      "cell_type": "code",
      "source": [
        "digit_dataset.target[0]"
      ],
      "metadata": {
        "id": "lXo7At1eLQA1",
        "outputId": "39d3910d-b358-4d13-8e0f-b784128f3bc7",
        "colab": {
          "base_uri": "https://localhost:8080/"
        }
      },
      "execution_count": null,
      "outputs": [
        {
          "output_type": "execute_result",
          "data": {
            "text/plain": [
              "0"
            ]
          },
          "metadata": {},
          "execution_count": 27
        }
      ]
    },
    {
      "cell_type": "code",
      "source": [
        "plt.matshow(digit_dataset.images[0])"
      ],
      "metadata": {
        "colab": {
          "base_uri": "https://localhost:8080/",
          "height": 293
        },
        "id": "bzKd62sMLUZk",
        "outputId": "740c2b74-eab2-4860-a15f-7234d4298538"
      },
      "execution_count": null,
      "outputs": [
        {
          "output_type": "execute_result",
          "data": {
            "text/plain": [
              "<matplotlib.image.AxesImage at 0x7f340ca19a30>"
            ]
          },
          "metadata": {},
          "execution_count": 28
        },
        {
          "output_type": "display_data",
          "data": {
            "text/plain": [
              "<Figure size 288x288 with 1 Axes>"
            ],
            "image/png": "[encoded data removed]"
          },
          "metadata": {
            "needs_background": "light"
          }
        }
      ]
    },
    {
      "cell_type": "code",
      "source": [
        "print(f\"Shape of the Image: {digit_dataset.images[0].shape}\")"
      ],
      "metadata": {
        "colab": {
          "base_uri": "https://localhost:8080/"
        },
        "id": "OX1xtGqOLcbV",
        "outputId": "fa7541f7-5e57-4ad1-cb16-3b1d4f7fb199"
      },
      "execution_count": null,
      "outputs": [
        {
          "output_type": "stream",
          "name": "stdout",
          "text": [
            "Shape of the Image: (8, 8)\n"
          ]
        }
      ]
    },
    {
      "cell_type": "markdown",
      "source": [
        "# split the dataset"
      ],
      "metadata": {
        "id": "Wyr23FbcL1lm"
      }
    },
    {
      "cell_type": "code",
      "source": [
        "# your code goes here\n",
        "X_train, X_test,y_train, y_test = train_test_split(digit_dataset.data,digit_dataset.target, test_size=0.1, random_state=1)"
      ],
      "metadata": {
        "id": "yzzFsIbcLy_h"
      },
      "execution_count": null,
      "outputs": []
    },
    {
      "cell_type": "code",
      "source": [
        "# print the shapre of train dataset\n",
        "\n",
        "print(f\"Shape of the train dataset: {X_train[0].shape}\")"
      ],
      "metadata": {
        "id": "2xxwzG0SMOwV",
        "outputId": "9e076c20-c011-4d67-cf0d-dc6b393d2259",
        "colab": {
          "base_uri": "https://localhost:8080/"
        }
      },
      "execution_count": null,
      "outputs": [
        {
          "output_type": "stream",
          "name": "stdout",
          "text": [
            "Shape of the train dataset: (64,)\n"
          ]
        }
      ]
    },
    {
      "cell_type": "markdown",
      "source": [
        "# create you Sequential Neural Network having single Dense layer."
      ],
      "metadata": {
        "id": "TnRR8D3OMdM1"
      }
    },
    {
      "cell_type": "code",
      "source": [
        "# Create Sequential Neuron Network with Dense Layer\n",
        "model = keras.Sequential([\n",
        "    keras.layers.Dense(10, input_shape=(64,), activation = 'sigmoid')\n",
        "])"
      ],
      "metadata": {
        "id": "ai1cXFfsMa8M"
      },
      "execution_count": null,
      "outputs": []
    },
    {
      "cell_type": "markdown",
      "source": [
        "# Compile the model\n",
        "\n"
      ],
      "metadata": {
        "id": "OnyJ4DgtYsTJ"
      }
    },
    {
      "cell_type": "code",
      "source": [
        "from tensorflow.python import metrics\n",
        "model.compile(optimizer='adam',\n",
        "              loss='sparse_categorical_crossentropy',\n",
        "              metrics=['accuracy'])"
      ],
      "metadata": {
        "id": "JsfEYMZNYoKX"
      },
      "execution_count": null,
      "outputs": []
    },
    {
      "cell_type": "markdown",
      "source": [
        "# Train the model using fit"
      ],
      "metadata": {
        "id": "RWq1ygsWY8eU"
      }
    },
    {
      "cell_type": "code",
      "source": [
        "model.fit(X_train, y_train, epochs=25)"
      ],
      "metadata": {
        "id": "pWLViwJRZAMl",
        "outputId": "2b33db4d-7a09-47a2-9571-5c067f0c3328",
        "colab": {
          "base_uri": "https://localhost:8080/"
        }
      },
      "execution_count": null,
      "outputs": [
        {
          "output_type": "stream",
          "name": "stdout",
          "text": [
            "Epoch 1/25\n",
            "51/51 [==============================] - 0s 2ms/step - loss: 0.1109 - accuracy: 0.9660\n",
            "Epoch 2/25\n",
            "51/51 [==============================] - 0s 2ms/step - loss: 0.1066 - accuracy: 0.9666\n",
            "Epoch 3/25\n",
            "51/51 [==============================] - 0s 4ms/step - loss: 0.1013 - accuracy: 0.9691\n",
            "Epoch 4/25\n",
            "51/51 [==============================] - 0s 4ms/step - loss: 0.0965 - accuracy: 0.9703\n",
            "Epoch 5/25\n",
            "51/51 [==============================] - 0s 4ms/step - loss: 0.0924 - accuracy: 0.9753\n",
            "Epoch 6/25\n",
            "51/51 [==============================] - 0s 5ms/step - loss: 0.0900 - accuracy: 0.9740\n",
            "Epoch 7/25\n",
            "51/51 [==============================] - 0s 2ms/step - loss: 0.0870 - accuracy: 0.9759\n",
            "Epoch 8/25\n",
            "51/51 [==============================] - 0s 2ms/step - loss: 0.0844 - accuracy: 0.9784\n",
            "Epoch 9/25\n",
            "51/51 [==============================] - 0s 2ms/step - loss: 0.0802 - accuracy: 0.9790\n",
            "Epoch 10/25\n",
            "51/51 [==============================] - 0s 2ms/step - loss: 0.0787 - accuracy: 0.9796\n",
            "Epoch 11/25\n",
            "51/51 [==============================] - 0s 2ms/step - loss: 0.0758 - accuracy: 0.9790\n",
            "Epoch 12/25\n",
            "51/51 [==============================] - 0s 2ms/step - loss: 0.0720 - accuracy: 0.9839\n",
            "Epoch 13/25\n",
            "51/51 [==============================] - 0s 2ms/step - loss: 0.0721 - accuracy: 0.9814\n",
            "Epoch 14/25\n",
            "51/51 [==============================] - 0s 2ms/step - loss: 0.0691 - accuracy: 0.9833\n",
            "Epoch 15/25\n",
            "51/51 [==============================] - 0s 2ms/step - loss: 0.0655 - accuracy: 0.9870\n",
            "Epoch 16/25\n",
            "51/51 [==============================] - 0s 2ms/step - loss: 0.0621 - accuracy: 0.9839\n",
            "Epoch 17/25\n",
            "51/51 [==============================] - 0s 2ms/step - loss: 0.0618 - accuracy: 0.9858\n",
            "Epoch 18/25\n",
            "51/51 [==============================] - 0s 2ms/step - loss: 0.0600 - accuracy: 0.9858\n",
            "Epoch 19/25\n",
            "51/51 [==============================] - 0s 2ms/step - loss: 0.0577 - accuracy: 0.9876\n",
            "Epoch 20/25\n",
            "51/51 [==============================] - 0s 2ms/step - loss: 0.0574 - accuracy: 0.9858\n",
            "Epoch 21/25\n",
            "51/51 [==============================] - 0s 2ms/step - loss: 0.0550 - accuracy: 0.9882\n",
            "Epoch 22/25\n",
            "51/51 [==============================] - 0s 2ms/step - loss: 0.0531 - accuracy: 0.9889\n",
            "Epoch 23/25\n",
            "51/51 [==============================] - 0s 2ms/step - loss: 0.0513 - accuracy: 0.9889\n",
            "Epoch 24/25\n",
            "51/51 [==============================] - 0s 3ms/step - loss: 0.0504 - accuracy: 0.9901\n",
            "Epoch 25/25\n",
            "51/51 [==============================] - 0s 2ms/step - loss: 0.0494 - accuracy: 0.9901\n"
          ]
        },
        {
          "output_type": "execute_result",
          "data": {
            "text/plain": [
              "<keras.callbacks.History at 0x7f34041796d0>"
            ]
          },
          "metadata": {},
          "execution_count": 61
        }
      ]
    },
    {
      "cell_type": "code",
      "source": [
        "# Evaluate the model\n",
        "model.evaluate(X_test, y_test)"
      ],
      "metadata": {
        "id": "jp1KlmsXMu2g",
        "outputId": "51088822-59ad-4fa5-d080-51444ccb2b37",
        "colab": {
          "base_uri": "https://localhost:8080/"
        }
      },
      "execution_count": null,
      "outputs": [
        {
          "output_type": "stream",
          "name": "stdout",
          "text": [
            "6/6 [==============================] - 0s 3ms/step - loss: 0.1012 - accuracy: 0.9722\n"
          ]
        },
        {
          "output_type": "execute_result",
          "data": {
            "text/plain": [
              "[0.10122068226337433, 0.9722222089767456]"
            ]
          },
          "metadata": {},
          "execution_count": 62
        }
      ]
    },
    {
      "cell_type": "code",
      "source": [
        "# Predict first image class\n",
        "image_to_predict = model.predict(X_test)"
      ],
      "metadata": {
        "id": "7-IbhRyqEZ2K",
        "outputId": "f4bfe130-2631-4515-a2ce-365485e9be9a",
        "colab": {
          "base_uri": "https://localhost:8080/"
        }
      },
      "execution_count": null,
      "outputs": [
        {
          "output_type": "stream",
          "name": "stdout",
          "text": [
            "6/6 [==============================] - 0s 2ms/step\n"
          ]
        }
      ]
    },
    {
      "cell_type": "code",
      "source": [
        "# Printing the predicting and actual output\n",
        "print(np.argmax(image_to_predict[0]))\n",
        "print(y_test[0])"
      ],
      "metadata": {
        "id": "HQBlIvHLaaBk",
        "outputId": "b2f25f40-00fb-4eb3-ec60-a1f3ae550343",
        "colab": {
          "base_uri": "https://localhost:8080/"
        }
      },
      "execution_count": null,
      "outputs": [
        {
          "output_type": "stream",
          "name": "stdout",
          "text": [
            "1\n",
            "1\n"
          ]
        }
      ]
    },
    {
      "cell_type": "code",
      "source": [
        "# Plotting the test image\n",
        "plt.matshow(X_test[0].reshape(8,8))"
      ],
      "metadata": {
        "colab": {
          "base_uri": "https://localhost:8080/",
          "height": 293
        },
        "id": "0Or_lWJ5M5tW",
        "outputId": "4d8f9ba2-8fcd-40f3-b985-580683fa3d31"
      },
      "execution_count": null,
      "outputs": [
        {
          "output_type": "execute_result",
          "data": {
            "text/plain": [
              "<matplotlib.image.AxesImage at 0x7f34049b1f10>"
            ]
          },
          "metadata": {},
          "execution_count": 65
        },
        {
          "output_type": "display_data",
          "data": {
            "text/plain": [
              "<Figure size 288x288 with 1 Axes>"
            ],
            "image/png": "[encoded data removed]"
          },
          "metadata": {
            "needs_background": "light"
          }
        }
      ]
    }
  ]
}