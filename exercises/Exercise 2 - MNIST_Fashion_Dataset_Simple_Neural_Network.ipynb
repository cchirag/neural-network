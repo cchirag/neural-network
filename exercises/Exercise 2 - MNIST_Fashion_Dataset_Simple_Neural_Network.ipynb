{
  "nbformat": 4,
  "nbformat_minor": 0,
  "metadata": {
    "colab": {
      "provenance": []
    },
    "kernelspec": {
      "name": "python3",
      "display_name": "Python 3"
    },
    "language_info": {
      "name": "python"
    }
  },
  "cells": [
    {
      "cell_type": "code",
      "execution_count": 16,
      "metadata": {
        "id": "V47kEuIn_Z0m"
      },
      "outputs": [],
      "source": [
        "import numpy as np\n",
        "from matplotlib import pyplot as plt\n",
        "import tensorflow as tf\n",
        "from tensorflow import keras\n",
        "from tensorflow.python import metrics"
      ]
    },
    {
      "cell_type": "markdown",
      "source": [
        "# Import the dataset and destructure test and train data "
      ],
      "metadata": {
        "id": "sU1ZTjTQ_jcb"
      }
    },
    {
      "cell_type": "code",
      "source": [
        "(x_train, y_train), (x_test, y_test) = keras.datasets.fashion_mnist.load_data();\n",
        "\n",
        "print(f\"Shape of the data is: {x_train[0].shape}\")"
      ],
      "metadata": {
        "colab": {
          "base_uri": "https://localhost:8080/"
        },
        "id": "23NNogBf_ht2",
        "outputId": "70742bc6-2b42-4ed2-e414-1b5b45356110"
      },
      "execution_count": 17,
      "outputs": [
        {
          "output_type": "stream",
          "name": "stdout",
          "text": [
            "Shape of the data is: (28, 28)\n"
          ]
        }
      ]
    },
    {
      "cell_type": "markdown",
      "source": [
        "# Define a function to accept the predicted target number and return the corresponding item."
      ],
      "metadata": {
        "id": "MEDRFgt6BluV"
      }
    },
    {
      "cell_type": "code",
      "source": [
        "def get_item_name(item_number):\n",
        "  item_dist = {\n",
        "      \"0\"\t: \"T-shirt/top\",\n",
        "      \"1\":\t\"Trouser\",\n",
        "      \"2\":\t\"Pullover\",\n",
        "      \"3\":\t\"Dress\",\n",
        "      \"4\":\t\"Coat\",\n",
        "      \"5\":\t\"Sandal\",\n",
        "      \"6\":\t\"Shirt\",\n",
        "      \"7\":\t\"Sneaker\",\n",
        "      \"8\":\t\"Bag\",\n",
        "      \"9\":\t\"Ankle boot\",\n",
        "  }\n",
        "  return item_dist[str(item_number)]"
      ],
      "metadata": {
        "id": "Msv6ifPy_4BX"
      },
      "execution_count": 18,
      "outputs": []
    },
    {
      "cell_type": "markdown",
      "source": [
        "# Create a sequential neural network."
      ],
      "metadata": {
        "id": "xWc_QOpHDc9O"
      }
    },
    {
      "cell_type": "code",
      "source": [
        "model = keras.Sequential([\n",
        "    keras.layers.Flatten(),\n",
        "    keras.layers.Dense(200, activation=\"sigmoid\"),\n",
        "    keras.layers.Dense(10, activation=\"sigmoid\")\n",
        "])"
      ],
      "metadata": {
        "id": "2nnx9IZxDKvj"
      },
      "execution_count": 30,
      "outputs": []
    },
    {
      "cell_type": "markdown",
      "source": [
        "# Compile the model"
      ],
      "metadata": {
        "id": "RemeXELAF4wo"
      }
    },
    {
      "cell_type": "code",
      "source": [
        "model.compile(optimizer='adam',\n",
        "              loss='sparse_categorical_crossentropy',\n",
        "              metrics=['accuracy'])"
      ],
      "metadata": {
        "id": "aXHUwdfsF7Be"
      },
      "execution_count": 31,
      "outputs": []
    },
    {
      "cell_type": "markdown",
      "source": [
        "# Train the model"
      ],
      "metadata": {
        "id": "x_1SxsGRGMT9"
      }
    },
    {
      "cell_type": "code",
      "source": [
        "model.fit(x_train, y_train, epochs=25)"
      ],
      "metadata": {
        "colab": {
          "base_uri": "https://localhost:8080/"
        },
        "id": "5sSD7GuhGJx3",
        "outputId": "f17c9839-c43d-4b1e-c34b-1514df3f14f0"
      },
      "execution_count": 33,
      "outputs": [
        {
          "output_type": "stream",
          "name": "stdout",
          "text": [
            "Epoch 1/25\n",
            "1875/1875 [==============================] - 8s 4ms/step - loss: 0.6381 - accuracy: 0.7528\n",
            "Epoch 2/25\n",
            "1875/1875 [==============================] - 8s 4ms/step - loss: 0.6372 - accuracy: 0.7576\n",
            "Epoch 3/25\n",
            "1875/1875 [==============================] - 7s 4ms/step - loss: 0.6333 - accuracy: 0.7646\n",
            "Epoch 4/25\n",
            "1875/1875 [==============================] - 8s 4ms/step - loss: 0.6370 - accuracy: 0.7597\n",
            "Epoch 5/25\n",
            "1875/1875 [==============================] - 8s 4ms/step - loss: 0.6369 - accuracy: 0.7608\n",
            "Epoch 6/25\n",
            "1875/1875 [==============================] - 8s 4ms/step - loss: 0.6195 - accuracy: 0.7640\n",
            "Epoch 7/25\n",
            "1875/1875 [==============================] - 8s 4ms/step - loss: 0.6232 - accuracy: 0.7624\n",
            "Epoch 8/25\n",
            "1875/1875 [==============================] - 7s 4ms/step - loss: 0.6254 - accuracy: 0.7612\n",
            "Epoch 9/25\n",
            "1875/1875 [==============================] - 8s 4ms/step - loss: 0.6101 - accuracy: 0.7718\n",
            "Epoch 10/25\n",
            "1875/1875 [==============================] - 7s 4ms/step - loss: 0.6147 - accuracy: 0.7662\n",
            "Epoch 11/25\n",
            "1875/1875 [==============================] - 8s 4ms/step - loss: 0.6268 - accuracy: 0.7623\n",
            "Epoch 12/25\n",
            "1875/1875 [==============================] - 8s 4ms/step - loss: 0.6057 - accuracy: 0.7689\n",
            "Epoch 13/25\n",
            "1875/1875 [==============================] - 8s 4ms/step - loss: 0.5963 - accuracy: 0.7791\n",
            "Epoch 14/25\n",
            "1875/1875 [==============================] - 8s 4ms/step - loss: 0.5951 - accuracy: 0.7761\n",
            "Epoch 15/25\n",
            "1875/1875 [==============================] - 7s 4ms/step - loss: 0.5914 - accuracy: 0.7798\n",
            "Epoch 16/25\n",
            "1875/1875 [==============================] - 7s 4ms/step - loss: 0.5836 - accuracy: 0.7858\n",
            "Epoch 17/25\n",
            "1875/1875 [==============================] - 8s 4ms/step - loss: 0.5786 - accuracy: 0.7855\n",
            "Epoch 18/25\n",
            "1875/1875 [==============================] - 8s 4ms/step - loss: 0.5823 - accuracy: 0.7817\n",
            "Epoch 19/25\n",
            "1875/1875 [==============================] - 7s 4ms/step - loss: 0.5982 - accuracy: 0.7754\n",
            "Epoch 20/25\n",
            "1875/1875 [==============================] - 8s 4ms/step - loss: 0.5858 - accuracy: 0.7788\n",
            "Epoch 21/25\n",
            "1875/1875 [==============================] - 7s 4ms/step - loss: 0.5784 - accuracy: 0.7806\n",
            "Epoch 22/25\n",
            "1875/1875 [==============================] - 8s 4ms/step - loss: 0.5805 - accuracy: 0.7844\n",
            "Epoch 23/25\n",
            "1875/1875 [==============================] - 7s 4ms/step - loss: 0.5829 - accuracy: 0.7771\n",
            "Epoch 24/25\n",
            "1875/1875 [==============================] - 7s 4ms/step - loss: 0.5952 - accuracy: 0.7806\n",
            "Epoch 25/25\n",
            "1875/1875 [==============================] - 7s 4ms/step - loss: 0.5752 - accuracy: 0.7872\n"
          ]
        },
        {
          "output_type": "execute_result",
          "data": {
            "text/plain": [
              "<keras.callbacks.History at 0x7f34f498cd60>"
            ]
          },
          "metadata": {},
          "execution_count": 33
        }
      ]
    },
    {
      "cell_type": "markdown",
      "source": [
        "# Evaluate the model"
      ],
      "metadata": {
        "id": "WT3c9frEI6SZ"
      }
    },
    {
      "cell_type": "code",
      "source": [
        "model.evaluate(x_test, y_test)"
      ],
      "metadata": {
        "colab": {
          "base_uri": "https://localhost:8080/"
        },
        "id": "RZs6xWzFGZ9U",
        "outputId": "3305e2e1-b3f9-494f-b3f1-46a689b39351"
      },
      "execution_count": 34,
      "outputs": [
        {
          "output_type": "stream",
          "name": "stdout",
          "text": [
            "313/313 [==============================] - 1s 3ms/step - loss: 0.6056 - accuracy: 0.7763\n"
          ]
        },
        {
          "output_type": "execute_result",
          "data": {
            "text/plain": [
              "[0.6055538058280945, 0.7763000130653381]"
            ]
          },
          "metadata": {},
          "execution_count": 34
        }
      ]
    },
    {
      "cell_type": "code",
      "source": [
        "image_to_predict = model.predict(x_test)\n",
        "print(x_test.shape)"
      ],
      "metadata": {
        "colab": {
          "base_uri": "https://localhost:8080/"
        },
        "id": "jUll0gyOJANb",
        "outputId": "ffafa32c-6c72-48e6-d78d-c235405cd70f"
      },
      "execution_count": 35,
      "outputs": [
        {
          "output_type": "stream",
          "name": "stdout",
          "text": [
            "313/313 [==============================] - 1s 2ms/step\n",
            "(10000, 28, 28)\n"
          ]
        }
      ]
    },
    {
      "cell_type": "code",
      "source": [
        "test_index = 100;\n",
        "print(image_to_predict[test_index])\n",
        "print(f\"Predicted: {get_item_name(np.argmax(image_to_predict[test_index]))}\")\n",
        "print(f\"Expected: {get_item_name(y_test[test_index])}\")"
      ],
      "metadata": {
        "colab": {
          "base_uri": "https://localhost:8080/"
        },
        "id": "HXyyHaygJIKm",
        "outputId": "c4590a30-b936-4885-ede6-463f05203ae9"
      },
      "execution_count": 45,
      "outputs": [
        {
          "output_type": "stream",
          "name": "stdout",
          "text": [
            "[2.7667454e-07 1.4915911e-07 2.7020498e-08 3.8627200e-05 2.8307735e-08\n",
            " 4.7500594e-11 4.1577426e-08 1.4329217e-13 3.3227650e-09 7.9994284e-12]\n",
            "Predicted: Dress\n",
            "Expected: Dress\n"
          ]
        }
      ]
    },
    {
      "cell_type": "code",
      "source": [
        "plt.matshow(x_test[test_index].reshape(28,28))"
      ],
      "metadata": {
        "colab": {
          "base_uri": "https://localhost:8080/",
          "height": 293
        },
        "id": "7J6ZqgRvJMUc",
        "outputId": "5e3d4915-5f7c-46a2-db3e-13b1c0c003bd"
      },
      "execution_count": 46,
      "outputs": [
        {
          "output_type": "execute_result",
          "data": {
            "text/plain": [
              "<matplotlib.image.AxesImage at 0x7f34f4776d00>"
            ]
          },
          "metadata": {},
          "execution_count": 46
        },
        {
          "output_type": "display_data",
          "data": {
            "text/plain": [
              "<Figure size 288x288 with 1 Axes>"
            ],
            "image/png": "[encoded data removed]"
          },
          "metadata": {
            "needs_background": "light"
          }
        }
      ]
    },
    {
      "cell_type": "code",
      "source": [],
      "metadata": {
        "id": "j_5wEHHrJYrY"
      },
      "execution_count": null,
      "outputs": []
    }
  ]
}